{
 "cells": [
  {
   "cell_type": "markdown",
   "metadata": {},
   "source": [
    "# Analysis\n",
    "\n",
    "# Combine k-means and LDA results with school characteristics data\n",
    "\n",
    "I next join the blurbs and classifications with data on school characteristics from EduBase]. **Be sure to add link to school performance data, and ideally also look at relationship to survey data.**"
   ]
  },
  {
   "cell_type": "code",
   "execution_count": 107,
   "metadata": {
    "collapsed": false
   },
   "outputs": [
    {
     "name": "stdout",
     "output_type": "stream",
     "text": [
      "(200, 4)\n",
      "        URN                                             blurbs  km_assignment  \\\n",
      "0  119460.0  Welcome to Adlington St Paul's Church of Engla...              1   \n",
      "1  139709.0  Welcome to Abbey Woods Academy Abbey Woods is ...              1   \n",
      "2  114864.0  We aim to make school a happy and rewarding ex...              3   \n",
      "3  131982.0  Menu Welcome from the Principal Principals Blo...              2   \n",
      "4  121326.0  Welcome to Alanbrooke Community Primary School...              3   \n",
      "\n",
      "                school_type  \n",
      "0    Voluntary Aided School  \n",
      "1       Academy Sponsor Led  \n",
      "2          Community School  \n",
      "3  Other Independent School  \n",
      "4          Community School  \n"
     ]
    }
   ],
   "source": [
    "# Load school characteristics data\n",
    "school_dat = pd.read_csv('edubasealldata.csv', low_memory=False)\n",
    "# print school_dat.head()\n",
    "school_dat = school_dat[['URN','TypeOfEstablishment (name)']]\n",
    "# print school_dat.head()\n",
    "\n",
    "#Load school performance data\n",
    "# ks4 = pd.read_csv('Performancetables_1516/england_ks4revised.csv', low_memory=False)\n",
    "# ks4 = ks4[['URN', 'ATT8SCR']]\n",
    "# print ks4.head()\n",
    "\n",
    "# Merge kmeans and school characteristics datasets\n",
    "df = pd.merge(classifed_blurbs, school_dat, how='left', on='URN')\n",
    "print df.shape\n",
    "\n",
    "# Then merge with school performance dataset\n",
    "# df = pd.merge(df, ks4, how='left', on='URN') # getting lots of obs - must be repeated URNs in ks4\n",
    "# print df.shape\n",
    "\n",
    "# Rename columns\n",
    "df.columns = ['school_type' if x=='TypeOfEstablishment (name)' else x for x in df.columns]\n",
    "\n",
    "print df.head()\n",
    "\n",
    "# Save to csv\n",
    "\n",
    "# Free up memory\n",
    "del school_dat"
   ]
  },
  {
   "cell_type": "markdown",
   "metadata": {},
   "source": [
    "# Analyze relationship between website text and school characteristics\n",
    "\n",
    "### Plot proportion in each group by school type\n",
    "\n",
    "I may want to use the stacked bar graph package here: https://github.com/minillinim/stackedBarGraph"
   ]
  },
  {
   "cell_type": "code",
   "execution_count": 123,
   "metadata": {
    "collapsed": false
   },
   "outputs": [
    {
     "name": "stdout",
     "output_type": "stream",
     "text": [
      "Voluntary Aided School 6.0\n",
      "Academy Sponsor Led 6.5\n",
      "Community School 28.0\n",
      "Other Independent School 3.0\n",
      "no_type 27.5\n",
      "Academy Converter 14.0\n",
      "Foundation School 5.0\n",
      "Voluntary Controlled School 4.5\n",
      "Academy Special Converter 1.5\n",
      "Community Special School 1.0\n",
      "LA Nursery School 1.5\n",
      "Free Schools 0.5\n",
      "Pupil Referral Unit 0.5\n",
      "Free Schools - Alternative Provision 0.5\n",
      "100.0\n"
     ]
    }
   ],
   "source": [
    "tot = 0\n",
    "df.school_type.fillna('no_type', inplace=True)\n",
    "for t in df['school_type'].unique():\n",
    "    print t, float(len(df[df['school_type']==t]))*100.0/float(len(df))\n",
    "    tot += float(len(df[df['school_type']==t]))*100.0/float(len(df))\n",
    "print tot\n",
    "\n",
    "\n",
    "\n",
    "\n"
   ]
  },
  {
   "cell_type": "markdown",
   "metadata": {},
   "source": [
    "For my k-means analysis I would think a multinomial model would be good for exploring, for example, differences across groups or with characteristics in the proportion falling in differnet categories. For the LDA analysis, I will have proportions summing to one for each variable. I will have to investigate the best model for this - but it could well be something again involving a Dirichlet. \n",
    "\n",
    "Of course, any such analysis won't take account of the uncertainty in my paramater estimtes, and I should note this limitation and that I like likely need to explore Bayesian methods to address it."
   ]
  },
  {
   "cell_type": "code",
   "execution_count": null,
   "metadata": {
    "collapsed": true
   },
   "outputs": [],
   "source": []
  }
 ],
 "metadata": {
  "anaconda-cloud": {},
  "kernelspec": {
   "display_name": "Python [conda root]",
   "language": "python",
   "name": "conda-root-py"
  },
  "language_info": {
   "codemirror_mode": {
    "name": "ipython",
    "version": 2
   },
   "file_extension": ".py",
   "mimetype": "text/x-python",
   "name": "python",
   "nbconvert_exporter": "python",
   "pygments_lexer": "ipython2",
   "version": "2.7.12"
  }
 },
 "nbformat": 4,
 "nbformat_minor": 1
}
