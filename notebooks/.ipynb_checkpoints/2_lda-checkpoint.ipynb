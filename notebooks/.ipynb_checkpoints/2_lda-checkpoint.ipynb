{
 "cells": [
  {
   "cell_type": "markdown",
   "metadata": {},
   "source": [
    "# Latent dirichlet allocation (LDA)\n",
    "\n",
    "I identify the topics discussed in each school webside blurb using Latent dirichlet allocation (LDA). LDA is a mixed membership model. Mixed memership models allow us to associate a given data point with a set of different cluster assignments and to capture the relative proportion of different clusters in a datapoint.\n",
    "\n",
    "## Load packages and data\n",
    "\n",
    "Read in packages and data."
   ]
  },
  {
   "cell_type": "code",
   "execution_count": 2,
   "metadata": {
    "collapsed": false
   },
   "outputs": [
    {
     "name": "stdout",
     "output_type": "stream",
     "text": [
      "showing info https://raw.githubusercontent.com/nltk/nltk_data/gh-pages/index.xml\n"
     ]
    }
   ],
   "source": [
    "from py_files.importing_packages import *\n",
    "import random\n",
    "import gensim\n",
    "import json\n",
    "import numpy as np\n",
    "import pandas as pd\n",
    "import gensim\n",
    "from gensim import corpora\n",
    "from nltk.corpus import wordnet\n",
    "from nltk.stem import WordNetLemmatizer\n",
    "import nltk\n",
    "nltk.download()   # will open a new window (you need to close it before can continue)\n",
    "\n",
    "%matplotlib inline"
   ]
  },
  {
   "cell_type": "code",
   "execution_count": 3,
   "metadata": {
    "collapsed": false
   },
   "outputs": [
    {
     "name": "stdout",
     "output_type": "stream",
     "text": [
      "4676\n"
     ]
    }
   ],
   "source": [
    "df = pd.read_csv('../my_datasets/prepped.csv')\n",
    "print len(df)"
   ]
  },
  {
   "cell_type": "markdown",
   "metadata": {},
   "source": [
    "Get list of URNs (will need later when put it back together) and blurbs"
   ]
  },
  {
   "cell_type": "code",
   "execution_count": 4,
   "metadata": {
    "collapsed": true
   },
   "outputs": [],
   "source": [
    "urn_series = df[\"urn\"]\n",
    "blist = df[\"blurb\"].tolist()"
   ]
  },
  {
   "cell_type": "markdown",
   "metadata": {},
   "source": [
    "## Preprocess data\n",
    "\n",
    "Before fitting my LDA model, I need to break each blurb into individual elements that can serve as features. In addition to tokenizing (breaking up each blurb) I will perform a number of steps, in the following order (although note that there are multiple ways in which these operations could be combined):\n",
    "<ol>\n",
    "<li>**Remove all non-ASCII characters**: eg. \\xe2\\x80\\x98</li>\n",
    "<li>**Make all words lowercase**</li>\n",
    "<li>**Remove punctuation**</li>\n",
    "<li>**Tokenize**: divide string into a list of substrings.</li>\n",
    "<li>**Remove words not containing letters**</li>\n",
    "<li>**Remove words containing numbers**</li>\n",
    "<li>**Remove short words**: that is, of 3 characters or less.</li>\n",
    "<li>**Remove NLTK stopwords**: stopwords are a list of high frequency words like, the, to, and also.</li>\n",
    "<li>**Get parts of speech**: performed using [NLTK’s Treebank maximum entropy classifier](http://nltk.org/api/nltk.classify.html) based pos tagger. This is a slow but accurate pos tagger that was originally trained on the [Treebank](http://en.wikipedia.org/wiki/Treebank) corpus. Ideally, we would have used a classifier that was trained on our school website text, but I decided to take this faster approach as a first cut. Most topic models are built using nouns as they are most representative of concrete topics. Although adjectives, verbs and other parts of speech can add interesting context, they generally overpower the underlying nouns and can inject sentiment.</li>\n",
    "<li>**Lemmatize**: using [NLTK’s WordNet Lemmatizer](http://nltk.org/_modules/nltk/stem/wordnet.html). This reduces the dimensions of the data even further by aggregating words that either are the same root or have the same meaning.  The lemmatizer uses the pos tags to understand what words might be synonyms.  The lemmatizer would take a word such as *teacher* and *teachers* and make sure both were just *teacher*. I used lematization rather than stemming, as stemmers can aggressively mangle words.</li>\n",
    "<li>**Remove custom stopwords**: I drop a set of custom stopwords, that is, stopwords that, based on looking at the top words in each topic, I think that it was not helpful to include.</li>\n",
    "</ol>"
   ]
  },
  {
   "cell_type": "code",
   "execution_count": 6,
   "metadata": {
    "collapsed": false
   },
   "outputs": [],
   "source": [
    "## Remove all non-ASCII characters from blurbs (eg. \\xe2\\x80\\x98)\n",
    "new_list = []\n",
    "for b in blist:\n",
    "    new_list.append(b.decode('utf8').encode('ascii', errors='ignore'))\n",
    "blist = new_list\n",
    "\n",
    "## Create lists of stopwords \n",
    "nltk_stoplist = nltk.corpus.stopwords.words('english')\n",
    "custom_stoplist = []\n",
    "# custom_stoplist = ['child', 'children', 'pupil', 'student', 'princip', 'headteach',\n",
    "#                    'parent', 'staff', 'peopl','governor','head','teacher',\n",
    "#                    'girl','boy', 'age','young', \n",
    "#                    'communiti', 'free', 'primari', 'sixth', 'colleg', 'england',\n",
    "#                    'george','king','infant','nurseri','junior',\n",
    "#                    'websit', 'pleas','thank','interest', 'link', 'like', 'page', 'click', \n",
    "#                    'find', 'contact','inform', 'look', 'news', 'newslett','visit',\n",
    "#                    'form', 'twitter','site','telephon','message','email','updat','blog',\n",
    "#                    'septemb', 'februari','march','week', 'year','term', 'date','time','monday',\n",
    "#                    'would', 'everi', 'make', 'look', 'come', 'well', 'area',\n",
    "#                    'togeth', 'need', 'give', 'also', 'use', 'offic', 'keep',\n",
    "#                    'know', 'posit','rang','feder', 'around','part','follow',\n",
    "#                    'take','includ','nation',\n",
    "#                    'provid', 'build', 'offer', 'work', 'educ', 'learn',\n",
    "#                    'event','polici','class','hope','best','good','high',\n",
    "#                    'cathol', 'church', 'villag','lot','back',\n",
    "#                    'copi','view','detail','life']  \n",
    "\n",
    "def no_punctuation_unicode(text):\n",
    "    # remove puncuation from text\n",
    "    '''converts unicode -> string, applies .translate,\n",
    "    and then converts it back'''\n",
    "    str_text = str(text)\n",
    "    no_punctuation = str_text.translate(None, string.punctuation)\n",
    "    unicode_text = no_punctuation.decode('utf-8')\n",
    "    return unicode_text\n",
    "\n",
    "def hasNumbers(inputString):\n",
    "    # check if inputString contains numbers   \n",
    "    return any(char.isdigit() for char in inputString)\n",
    "\n",
    "# Instantiate a WordNet Lemmatizer\n",
    "wnl = WordNetLemmatizer()\n",
    "        \n",
    "# Will need to convert penn_tag to morphy_tag used by WordNet Lemmatizer\n",
    "# http://stackoverflow.com/questions/5364493/lemmatizing-pos-tagged-words-with-nltk\n",
    "morphy_tag = {'NN':wordnet.NOUN,'JJ':wordnet.ADJ,'VB':wordnet.VERB,'RB':wordnet.ADV}\n",
    "        \n",
    "def prep_blurb(blurb):\n",
    "    blurb = blurb.lower()  # make lowercase\n",
    "    blurb = no_punctuation_unicode(blurb) # remove punctuation\n",
    "    blurb = nltk.word_tokenize(blurb) # tokenize  \n",
    "    blurb = [t for t in blurb if re.search('[a-zA-Z]',t)] # remove words not containing letters\n",
    "    blurb = [t for t in blurb if not hasNumbers(t)] # remove words containing numbers\n",
    "    blurb = [t for t in blurb if len(t)>3]  # remove short words\n",
    "    blurb = [t for t in blurb if not t in nltk_stoplist]  #remove nltk stopwords\n",
    "    blurb = [word for word in nltk.pos_tag(blurb)]  # get parts of speech\n",
    "    blurb = [word for word in blurb if word[1] in ['NN','NNS']]  # reduce to only nouns\n",
    "    blurb = [wnl.lemmatize(word[0],morphy_tag[word[1][:2]]) for word in blurb]  # lemmatize\n",
    "    blurb = [t for t in blurb if len(t)>3]  # remove short words a second time in case introduced by lemmatization\n",
    "    blurb = [t for t in blurb if not t in nltk_stoplist] # remove nltk stopwords a second time in case introduced by lemmatization\n",
    "    blurb = [t for t in blurb if not t in custom_stoplist]  # remove custom stopwords \n",
    "    return blurb\n",
    "\n",
    "prepped_list = []\n",
    "for b in blist:\n",
    "    prepped_list.append(prep_blurb(b)) \n",
    "\n",
    "# for i in range(5):\n",
    "#     print prepped_list[i]"
   ]
  },
  {
   "cell_type": "markdown",
   "metadata": {},
   "source": [
    "I next turn my tokenized, stemmed etc. blurbs into an id-term dictionary. The Dictionary() function traverses texts, assigning a unique integer id to each unique token while also collecting word counts "
   ]
  },
  {
   "cell_type": "code",
   "execution_count": 7,
   "metadata": {
    "collapsed": false
   },
   "outputs": [],
   "source": [
    "my_dict = corpora.Dictionary(prepped_list)"
   ]
  },
  {
   "cell_type": "markdown",
   "metadata": {},
   "source": [
    "I then remove infrequent and frequent words by using the dictionary.filter_extremes() method. I remove all words that appear in at least 5 documents, removed all words that appeared in more than 60% of the documents."
   ]
  },
  {
   "cell_type": "code",
   "execution_count": 8,
   "metadata": {
    "collapsed": false
   },
   "outputs": [
    {
     "name": "stdout",
     "output_type": "stream",
     "text": [
      "8466\n",
      "1729\n",
      "[0, 1, 2, 3, 4, 5, 871, 7, 8, 9, 10, 11, 12, 13, 14, 15, 16, 17, 18, 19, 20, 21, 22, 23, 875, 25, 26, 27, 28, 29]\n",
      "similarity\n"
     ]
    }
   ],
   "source": [
    "print len(my_dict)\n",
    "my_dict.filter_extremes(no_below=5, no_above=0.6, keep_n=None)\n",
    "print len(my_dict)\n",
    "print my_dict.keys()[:30]\n",
    "print my_dict[1]"
   ]
  },
  {
   "cell_type": "markdown",
   "metadata": {},
   "source": [
    "The doc2bow() function converts dictionary into a bag-of-words. The result, corpus, is a list of vectors equal to the number of documents. In each document vector is a series of tuples: (term ID, term frequency). "
   ]
  },
  {
   "cell_type": "code",
   "execution_count": 9,
   "metadata": {
    "collapsed": false
   },
   "outputs": [
    {
     "name": "stdout",
     "output_type": "stream",
     "text": [
      "4676\n",
      "[(27, 1), (119, 1), (221, 1), (292, 1), (397, 1), (400, 1), (782, 1), (841, 1), (888, 1), (921, 1), (1065, 1), (1133, 1), (1148, 1), (1167, 1), (1194, 1), (1307, 1)]\n"
     ]
    }
   ],
   "source": [
    "corpus = [my_dict.doc2bow(text) for text in prepped_list]\n",
    "print len(corpus)\n",
    "print corpus[0]"
   ]
  },
  {
   "cell_type": "markdown",
   "metadata": {},
   "source": [
    "I am going to run my LDA models on EC2. I therefore need to save my dictionary and corpus"
   ]
  },
  {
   "cell_type": "code",
   "execution_count": 10,
   "metadata": {
    "collapsed": false
   },
   "outputs": [],
   "source": [
    "my_dict.save('../aws_dir/lda_project/Data/lda_dictionary.dict')\n",
    "corpora.MmCorpus.serialize('../aws_dir/lda_project/Data/lda_corpus.mm', corpus)"
   ]
  },
  {
   "cell_type": "markdown",
   "metadata": {},
   "source": [
    "Check that I am able to load the dictionary and corpus without introducing changes from the original"
   ]
  },
  {
   "cell_type": "code",
   "execution_count": 11,
   "metadata": {
    "collapsed": false
   },
   "outputs": [
    {
     "name": "stdout",
     "output_type": "stream",
     "text": [
      "[0, 1, 2, 3, 4, 5, 6, 7, 8, 9, 10, 11, 12, 13, 14, 15, 16, 17, 18, 19, 20, 21, 22, 23, 24, 25, 26, 27, 28, 29]\n",
      "similarity\n",
      "[(27, 1.0), (119, 1.0), (221, 1.0), (292, 1.0), (397, 1.0), (400, 1.0), (782, 1.0), (841, 1.0), (888, 1.0), (921, 1.0), (1065, 1.0), (1133, 1.0), (1148, 1.0), (1167, 1.0), (1194, 1.0), (1307, 1.0)]\n"
     ]
    }
   ],
   "source": [
    "test_dictionary = corpora.Dictionary.load('../aws_dir/lda_project/Data/lda_dictionary.dict')\n",
    "print test_dictionary.keys()[:30]\n",
    "print test_dictionary[1]\n",
    "\n",
    "test_corpus = corpora.MmCorpus('../aws_dir/lda_project/Data/lda_corpus.mm')\n",
    "print test_corpus[0]"
   ]
  },
  {
   "cell_type": "markdown",
   "metadata": {},
   "source": [
    "## Brief overview of LDA\n",
    "\n",
    "Here, I briefly discuss the LDA model and inference using this model. For further details, David Blei has an [excellent couple of talks](http://videolectures.net/mlss09uk_blei_tm/) introducing topic modelling, and LDA in particular.\n",
    "\n",
    "### Probabalistic generative model\n",
    "\n",
    "LDA assumes that there are some number k of topics that live outside of the document collection. Each topic is a distribution over the entire fixed vocabulary of v words (that is, a vector that assigns a probability to every word in teh vocabulary). The topics (the distributions over words) follow a v-dimensional Dirichlet distribution : $\\beta_k \\sim Dir(\\eta)$. \n",
    "\n",
    "If you haven't seen it before, don't be confused by the fact that the Dirichlet is a distribution of distributions. Each draw from the Dirichlet assigns a probability to each element of a vector (whose length is determined by the dimensinoality of the Dirichlet), and these vectors of probabilities (which in our case we call topics) follow a Dichlet distribution. \n",
    "\n",
    "LDA posits the following data generation process:\n",
    "\n",
    "For each document, d\n",
    "<ol>\n",
    "<li>Draw a distribution over all k topics from the Dirichlet distribution: $\\theta_d \\sim Dir(\\alpha)$. (Again, each individual draw is a vector of probabilities over all k topics, and these vectors follow a Dirichlet distribution). \n",
    "<li>For each word, n, in the document:\n",
    "<ol>\n",
    "<li>Draw a topic assignment from a multinomial distribution with the parameters you drew in (1): $Z_{d,n} \\sim Multi(\\theta_d).$ Use this to select the corresponding topic, $\\beta_{z_{d,n}}$, from the topic matrix.\n",
    "<li>Draw a word from the topic that you selected in (2a): $w_{d,n} \\sim \\beta_{z_{d,n}}$\n",
    "</ol>\n",
    "</ol>\n",
    "\n",
    "### Computation (inferring hidden variables from the data)\n",
    "\n",
    "The only variable form the above model that we actually get to observe is the words W_{d,n}. We need to infer the latent (hidden) variables in the model from the data; specifically, we need to infer:\n",
    "<li>per-word topic assignments: $z_{d,n}$</li>\n",
    "<li>per-document topic proportions: $\\theta_d$</li>\n",
    "<li>per-corpus topic distributions: $\\beta_k$</li>\n",
    "\n",
    "LDA is a hierarchical Bayesian model: a statistical model written in multiple levels that estimates the parameters of the posterior distribution using the Bayesian method. In this case, the posterior is the distribution of the hidden variables given the observations (words). \n",
    "\n",
    "Unfortunately, this posterior is intractable to compute. Therefore, we appeal to approximate posterior inference of the posterior (that is, we need a method that will infer an approximation of the posterior distribution). There are a variety of methods for doing this:\n",
    "<li>Gibbs sampling</li>\n",
    "<li>variational methods</li>\n",
    "<li>per-corpus topic distributions: $\\beta_k$</li>\n",
    "\n",
    "### Setting up our model and algorithm\n",
    "\n",
    "There a number of things that we may want to explore varying in setting up our model (this list is not exhaustive, for example, we might also explore which n-grams to include in our bag of words):\n",
    "<ul>\n",
    "<li>number of topics, k\n",
    "<li>model hyperparameters (paramaters of the prior distributions)\n",
    "<ul>\n",
    "<li>$\\alpha$ - influences document-topic density: with a higher alpha documents are like to be made up of a mixture of most of the topics, and not any single topic specifically. A low alpha value puts less such constraints on documents and means that it is more likely that a document may contain mixture of just a few, or even only one, of the topics. To visualize this, assume a symetric distribution (only one value for alpha) and that there are three topics (so alpha is of length three, and each draw from the Dirichlet is a vecotr of length three). If alpha is greater than 1 there will be a peak to the distribution over vectors centered at $E[\\theta_i|\\alpha]$. The higher the value of alpha, the more peaky this distribution, that is, the more probability each draw assigns to vectors near the mean, and the less to other vectors (notably, vectors in the conresr that put a lot of weight on just one topic. \n",
    "<li>$\\eta$ - similarly influence topic-word density: a high beta-value means that each topic is likely to contain a mixture of most of the words, and not any word specifically, while a low value means that a topic may contain a mixture of just a few of the words..\n",
    "</ul>\n",
    "</ul>\n",
    "\n",
    "In addition, we could experiment with different algorithms in training our LDA model."
   ]
  },
  {
   "cell_type": "markdown",
   "metadata": {},
   "source": [
    "## Fit initial LDA model\n",
    "\n",
    "I fit my LDA model using gensim, which implements LDA using [online variational Bayes](https://rare-technologies.com/tutorial-on-mallet-in-python/). I run gensim on EC2 using a m4.4xlarge instance type, and use gensim's [ldamulticore](https://radimrehurek.com/gensim/models/ldamulticore.html) to parellize the model training across the instance's eight cores.\n",
    "\n",
    "I include the following parameters in the LDA model:\n",
    "<ul>\n",
    "<li>num_topics: *required.* An LDA model requires the user to determine how many topics should be generated. Our document set is small, so we’re only asking for three topics.\n",
    "<li>id2word: *required.* The LdaModel class requires our previous dictionary to map ids to strings.\n",
    "<li>passes: *optional.* The number of laps the model will take through corpus. The greater the number of passes, the more accurate the model will be. A lot of passes can be slow on a very large corpus.\n",
    "<li>workers: the number of extra processes to use for parallelization. Uses all available cores by default (so don't actually include this - just go with the default).\n",
    "<li>chunksize: the number of documents to sent to each worker. It uses 2000 by default, so instead I send it int(float(len(my_corpus))/my_workers), where my_workers is the number of cores.\n",
    "</ul>\n",
    "\n",
    "After fitting the model, I copy the results back to my mac, and read them in below."
   ]
  },
  {
   "cell_type": "code",
   "execution_count": null,
   "metadata": {
    "collapsed": true
   },
   "outputs": [],
   "source": [
    "# To see output as code is running, uncomment line below\n",
    "# import logging\n",
    "# logging.basicConfig(format='%(asctime)s: %(levelname)s : %(message)s', level=logging.INFO)\n",
    "\n",
    "my_workers = 8\n",
    "\n",
    "data_directory = '../Data/'\n",
    "my_dict = corpora.Dictionary.load(data_directory + 'lda_dictionary.dict')\n",
    "my_corpus = corpora.MmCorpus(data_directory + 'lda_corpus.mm')\n",
    "\n",
    "my_chunksize = int(float(len(my_corpus))/my_workers)\n",
    "my_lda = gensim.models.LdaMulticore(my_corpus, num_topics=6, id2word=my_dict, passes=20, workers=my_workers, chunksize=my_chunksize)\n",
    "my_lda.save('../Results/first_lda.lda')"
   ]
  },
  {
   "cell_type": "markdown",
   "metadata": {},
   "source": [
    "I then read in and take a look at these results below."
   ]
  },
  {
   "cell_type": "code",
   "execution_count": null,
   "metadata": {
    "collapsed": false
   },
   "outputs": [],
   "source": [
    "test_lda = gensim.models.LdaModel.load('../aws_dir/lda_project/Results/first_lda.lda')\n",
    "\n",
    "# With LDA, a topic is a probability distribution over words in the vocabulary; that is, each \n",
    "# topic assigns a particular probability to every one of the unique words that appears in our \n",
    "# data. Different topics will assign different probabilities to the same word. \n",
    "# Next, therefore, let's look at the highest probability words in each topic, which will give \n",
    "# us a sense of its major themes.\n",
    "topic_list = test_lda.print_topics(num_topics=6, num_words=8)\n",
    "for t in topic_list:\n",
    "    print t[1]\n",
    "print\n",
    "    \n",
    "# Take a look at the topic proportions for each blurb \n",
    "for row in range(3): \n",
    "    print test_lda[corpus[row]]\n",
    "\n",
    "# Convert topic proportions for each blurb (gensim.interfaces.TransformedCorpus object)\n",
    "# to list of lists (nb. length of topic proportion lists may vary across topics, because \n",
    "# doesn't report very small proportions)\n",
    "# results_list = []\n",
    "# for row in range(len(corpus)):\n",
    "#     results_list.append(lda[corpus[row]])\n",
    "\n",
    "# Write list of lists to json\n",
    "# with open('lda_blurb_topics.txt','w') as myfile:\n",
    "#     json.dump(results_list, myfile)"
   ]
  },
  {
   "cell_type": "markdown",
   "metadata": {},
   "source": [
    "## Choose the number of topics\n",
    "\n",
    "To compare the performance of models with different parameter values I use per-word perpelexity, folowing [Blie et al. (2003)](http://www.cs.princeton.edu/~blei/papers/BleiNgJordan2003.pdf). Perplexity is a measure of the likelihood achieved on a held-out test set. A lower perplexity indicates better performance. \n",
    "\n",
    "I begin by calculating the perplexity of models with different numbers of topics."
   ]
  },
  {
   "cell_type": "code",
   "execution_count": null,
   "metadata": {
    "collapsed": true
   },
   "outputs": [],
   "source": [
    "# Set the different numbers of topics that I will try\n",
    "num_topic_list = range(2, 102, 10)\n",
    "\n",
    "# Set number of cores to use when running gensim\n",
    "my_workers=8\n",
    "\n",
    "# Read in dictionary and corpus\n",
    "my_dictionary = corpora.Dictionary.load('../Data/lda_dictionary.dict')\n",
    "my_corpus = corpora.MmCorpus('../Data/lda_corpus.mm')\n",
    "\n",
    "# Split into 80% training and 20% test sets\n",
    "cp = list(my_corpus)\n",
    "random.shuffle(cp)\n",
    "p = int(len(cp) * .8)\n",
    "cp_train = cp[0:p]\n",
    "cp_test = cp[p:]\n",
    "\n",
    "# Compute perplexities for different numbers of topics\n",
    "perplexities = []\n",
    "for n in num_topic_list:\n",
    "    # fit model\n",
    "    my_chunksize = int(float(len(my_corpus))/my_workers)\n",
    "    lda = gensim.models.LdaMulticore(cp_train, num_topics=n, id2word=my_dictionary, passes=20, workers=my_workers, chunksize=my_chunksize)\n",
    "\n",
    "    # calculate per-word perplexity\n",
    "    per_word_perplex = np.exp2(-lda.log_perplexity(cp_test))\n",
    "\n",
    "    # Alternative way of getting per-word perplexity\n",
    "    # per_word_perplex = np.exp2(-lda.bound(cp_test) / sum(cnt for document in cp_test for _, cnt in document))\n",
    "\n",
    "    perplexities.append(per_word_perplex)\n",
    "    print n\n",
    "\n",
    "topics_perps_lists = [num_topic_list, perplexities]\n",
    "\n",
    "# Write lists of number of topics and corresponding perplexities to json\n",
    "with open('../Results/topics_perps_lists.txt', 'w') as myfile:\n",
    "    json.dump(topics_perps_lists, myfile)"
   ]
  },
  {
   "cell_type": "markdown",
   "metadata": {},
   "source": [
    "I then read in the results, and plot perplexity against the number of topics."
   ]
  },
  {
   "cell_type": "code",
   "execution_count": null,
   "metadata": {
    "collapsed": false
   },
   "outputs": [],
   "source": [
    "with open('../aws_dir/lda_project/Results/topics_perps_lists.txt','r') as infile:\n",
    "    newList = json.load(infile)\n",
    "    \n",
    "plt.plot(newList[0], newList[1],'-o', markersize=5)\n",
    "plt.ylim([0,2000])\n",
    "plt.ylabel('per-word perplexity')\n",
    "plt.xlabel('number topics')\n",
    "plt.show()"
   ]
  },
  {
   "cell_type": "markdown",
   "metadata": {},
   "source": [
    "We see that per-word perplexity is increasing in the number of topics. After some digging around on Google, it appears that there is an issue here with gensim. Lots of people have had the same problem (for example, [article 1](https://groups.google.com/forum/#!topic/gensim/iK692kdShi4), [article2](https://groups.google.com/forum/#!topic/gensim/TpuYRxhyIOc), [article 3](http://stackoverflow.com/questions/36913218/lda-with-gensim-strange-values-for-perplexity)) and it does not appear to have been resolved. \n",
    "\n",
    "In light of this issue with gensim, I ignore the elbow method. I instead spent some time experimeting with different numbers of topics to find a value of k that grouped the blurbs into meaninful groups and was not so large it would make interpretation challenging. I settled on eight topics.\n",
    "\n",
    "## Choose hyperparameter values (alpha and eta)\n",
    "\n",
    "I had originally indended to conduct a grid search to explore how perplexity varies with different values of alpha and eta. [However, given the problems with calcuating perplexity when using gensim, I instead decided to use the deafult values of alpha and eta.]"
   ]
  },
  {
   "cell_type": "code",
   "execution_count": null,
   "metadata": {
    "collapsed": true
   },
   "outputs": [],
   "source": [
    "## Set number topics\n",
    "k = 10\n",
    "\n",
    "## Set the parameter values that I will search over\n",
    "param_list = [0.001, 0.005, 0.01, 0.05, 0.1, 0.5, 1.0, 1.5]\n",
    "\n",
    "# Read in dictionary and corpus\n",
    "my_dictionary = corpora.Dictionary.load('../Data/lda_dictionary.dict')\n",
    "my_corpus = corpora.MmCorpus('../Data/lda_corpus.mm')\n",
    "\n",
    "# Split into 80% training and 20% test sets\n",
    "cp = list(my_corpus)\n",
    "random.shuffle(cp)\n",
    "p = int(len(cp) * .8)\n",
    "cp_train = cp[0:p]\n",
    "cp_test = cp[p:]\n",
    "\n",
    "# Compute perplexities\n",
    "grid_vals = {}\n",
    "for alpha_val in param_list:\n",
    "    perp_vals = []\n",
    "    for eta_val in param_list:\n",
    "        lda = gensim.models.ldamodel.LdaModel(cp_train, num_topics=k, alpha=alpha_val, eta=eta_val, id2word=my_dictionary, passes=20)\n",
    "        per_word_perplex = np.exp2(-lda.log_perplexity(cp_test))\n",
    "        perp_vals.append(per_word_perplex)\n",
    "    grid_vals[alpha_val] = perp_vals\n",
    "\n",
    "# Convert dictionary to DataFrame, with alpha on x axis, and eta on y axis\n",
    "final_grid = pd.DataFrame(grid_vals, index=param_list)\n",
    "\n",
    "# Write grid of perplexities to csv\n",
    "final_grid.to_csv('../Results/alpha_eta_grid.csv')"
   ]
  },
  {
   "cell_type": "markdown",
   "metadata": {},
   "source": [
    "## Run model with chosen parameters\n",
    "\n",
    "I now run my chosen model."
   ]
  },
  {
   "cell_type": "code",
   "execution_count": null,
   "metadata": {
    "collapsed": true
   },
   "outputs": [],
   "source": [
    "mport logging\n",
    "from gensim import corpora\n",
    "\n",
    "my_topics = 8\n",
    "my_workers = 8\n",
    " \n",
    "# To see output as code is running, uncomment line below\n",
    "# logging.basicConfig(format='%(asctime)s: %(levelname)s : %(message)s', level=logging.INFO)\n",
    "\n",
    "data_directory = '../Data/'\n",
    "my_dict = corpora.Dictionary.load(data_directory + 'lda_dictionary.dict')\n",
    "my_corpus = corpora.MmCorpus(data_directory + 'lda_corpus.mm')\n",
    "\n",
    "my_chunksize = int(float(len(my_corpus))/my_workers)\n",
    "my_lda = gensim.models.LdaMulticore(my_corpus, num_topics=my_topics, id2word=my_dict, passes=30, workers=my_workers, chunksize=my_chunksize)\n",
    "my_lda.save('../Results/lda_8topics.lda')\n",
    "\n",
    "topic_list  = my_lda.print_topics(num_topics=my_topics, num_words=8)\n",
    "for t in topic_list:\n",
    "    print t[1]"
   ]
  },
  {
   "cell_type": "markdown",
   "metadata": {},
   "source": [
    "I then looked at the top words for each topic (to give each topic a name) and topic proportions for each blurb (which I will use in my analysis)."
   ]
  },
  {
   "cell_type": "code",
   "execution_count": null,
   "metadata": {
    "collapsed": false
   },
   "outputs": [],
   "source": [
    "fin_lda = gensim.models.LdaModel.load('../aws_dir/lda_project/Results/lda_8topics.lda')\n",
    "\n",
    "# Highest probability words in each topic\n",
    "topic_list  = fin_lda.print_topics(num_topics=10, num_words=10)\n",
    "for t in topic_list:\n",
    "    s = t[1]\n",
    "    s = ''.join([c for c in s if not (c.isdigit() or c==\"*\" or c==\".\" or c=='\"')])\n",
    "    print t[0], s\n",
    "    print\n",
    "\n",
    "# Topics in each blurb\n",
    "for row in range(3): \n",
    "    print test_lda[corpus[row]]"
   ]
  },
  {
   "cell_type": "markdown",
   "metadata": {},
   "source": [
    "Let's convert the topics for each blurb into a dataframe where each blurb is a row, and each topic colum. "
   ]
  },
  {
   "cell_type": "code",
   "execution_count": null,
   "metadata": {
    "collapsed": false
   },
   "outputs": [],
   "source": [
    "topicmatrix = []\n",
    "for i in range(len(corpus)):\n",
    "    old_row = test_lda[corpus[i]]\n",
    "    new_row = [0]*8\n",
    "    for j in old_row:\n",
    "        new_row[j[0]] = j[1]\n",
    "    topicmatrix.append(new_row)\n",
    "\n",
    "df = pd.DataFrame(topicmatrix)\n",
    "print len(df)\n",
    "\n",
    "## Drop columns where topic values zero\n",
    "print sum(df.ix[:,6])\n",
    "print sum(df.ix[:,7])\n",
    "df = df.ix[:,0:5]\n",
    "\n",
    "# Rename columns and add URN\n",
    "df.columns = ['Offerings', 'Happiness', 'Inspections', 'Success', 'Support', 'Development']\n",
    "df['URN'] = urn_series\n",
    "\n",
    "# Reorder columns and reset index\n",
    "df = df[['URN', 'Offerings', 'Happiness', 'Inspections', 'Success', 'Support', 'Development']]\n",
    "df.reset_index(drop=True, inplace=True)\n",
    "\n",
    "# Save\n",
    "df.to_csv('../my_datasets/lda_dat.csv')\n",
    "\n",
    "# Check df looks ok (put at end so get nice table in Jupyter)\n",
    "print len(df)\n",
    "df.head()"
   ]
  },
  {
   "cell_type": "markdown",
   "metadata": {},
   "source": [
    "## Improving my LDA analysis\n",
    "\n",
    "There are at least two ways in which I should like to improve my LDA analysis. First, I should like to address the issue of calculating perplexity, and find optimal values for k, alpha, and eta. Probably the best approach would be to find a different measure for evaluating the models. Perplexity would not be ideal even if it worked, as it is a measure of predictive performance, but I am not using LDA for the purposes of prediction.\n",
    "\n",
    "Second, I should like to explore different algorithms for approximating the posterior/fitting my model. So far in training my LDA model I have only used [\"online variational Bayes\"](https://www.cs.princeton.edu/~blei/papers/HoffmanBleiBach2010b.pdf), the [method built into gensim](https://rare-technologies.com/multicore-lda-in-python-from-over-night-to-over-lunch/). I should like to instead try repeating my analsis with other methods, such as Gibbs sampling.  There is a wrapper in Python that should allow me to use Gibbs sampling with Gensim; however, it might instead be easier to use the LDA method in graphlab. "
   ]
  }
 ],
 "metadata": {
  "anaconda-cloud": {},
  "kernelspec": {
   "display_name": "Python [conda root]",
   "language": "python",
   "name": "conda-root-py"
  },
  "language_info": {
   "codemirror_mode": {
    "name": "ipython",
    "version": 2
   },
   "file_extension": ".py",
   "mimetype": "text/x-python",
   "name": "python",
   "nbconvert_exporter": "python",
   "pygments_lexer": "ipython2",
   "version": "2.7.12"
  }
 },
 "nbformat": 4,
 "nbformat_minor": 1
}
