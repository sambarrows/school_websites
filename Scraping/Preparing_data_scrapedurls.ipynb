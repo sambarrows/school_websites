{
 "cells": [
  {
   "cell_type": "markdown",
   "metadata": {},
   "source": [
    "I first used scrapy to create a dataset of school urls in the schools_spider project folder (see Steps_take.docx for details). \n",
    "\n",
    "In the cell below, I read in csv file I created that contains list of school urls. I then drop empty and invalid obs, and convert URN column to a number. I then write to csv."
   ]
  },
  {
   "cell_type": "code",
   "execution_count": 11,
   "metadata": {
    "collapsed": false
   },
   "outputs": [
    {
     "name": "stdout",
     "output_type": "stream",
     "text": [
      "Total rows: 16928\n",
      "Rows with http:// only: 0\n",
      "Rows with NaN: 4358\n",
      "Rows remaining 12570\n",
      "Final rows: 12570\n"
     ]
    }
   ],
   "source": [
    "import pandas as pd\n",
    "import numpy as np\n",
    "\n",
    "dat = pd.read_csv('/Users/sambarrows/Dropbox/School_websites/Scraping/schools_spider/schools_spider/spiders/school_dat.csv')\n",
    "print 'Total rows:', len(dat)\n",
    "print 'Rows with http:// only:', len(dat.loc[dat['school_url']=='http://'])\n",
    "print 'Rows with NaN:', len(dat[dat.school_url.isnull()])\n",
    "print 'Rows remaining', len(dat) - len(dat.loc[dat['school_url']=='http://']) - len(dat[dat.school_url.isnull()])\n",
    "\n",
    "dat['school_url'].replace('http://', np.NaN, inplace=True)\n",
    "dat = dat[dat.school_url.notnull()]\n",
    "print 'Final rows:', len(dat) \n",
    "\n",
    "dat['urn'] = dat['urn'].map(lambda x: x.lstrip('URN '))\n",
    "dat.head(n=5)\n",
    "\n",
    "# print dat[:72]\n",
    "dat.to_csv('/Users/sambarrows/Dropbox/School_websites/Scraping/scrapedurls.csv', index=False, header=False)"
   ]
  }
 ],
 "metadata": {
  "anaconda-cloud": {},
  "kernelspec": {
   "display_name": "Python [default]",
   "language": "python",
   "name": "python2"
  },
  "language_info": {
   "codemirror_mode": {
    "name": "ipython",
    "version": 2
   },
   "file_extension": ".py",
   "mimetype": "text/x-python",
   "name": "python",
   "nbconvert_exporter": "python",
   "pygments_lexer": "ipython2",
   "version": "2.7.12"
  }
 },
 "nbformat": 4,
 "nbformat_minor": 1
}
