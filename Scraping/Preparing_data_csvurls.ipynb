{
 "cells": [
  {
   "cell_type": "markdown",
   "metadata": {},
   "source": [
    "[EduBase](http://www.education.gov.uk/edubase/home.xhtml) allows you to download data for all establishments (which appears to include both closed establishments, open state-funded schools, or open academies and free schools. I will download data for all open state-funded schools. "
   ]
  },
  {
   "cell_type": "code",
   "execution_count": 74,
   "metadata": {
    "collapsed": false
   },
   "outputs": [
    {
     "name": "stdout",
     "output_type": "stream",
     "text": [
      "21917\n",
      "9586\n",
      "\n",
      "Establishment status catgories: ['Open' 'Open, but proposed to close']\n",
      "Number schools types: 22\n",
      "\n",
      "Academy 16-19 Converter\n",
      "Academy 16-19 Sponsor Led\n",
      "Academy Alternative Provision Converter\n",
      "Academy Alternative Provision Sponsor Led\n",
      "Academy Converter\n",
      "Academy Special Converter\n",
      "Academy Special Sponsor Led\n",
      "Academy Sponsor Led\n",
      "Community School\n",
      "Community Special School\n",
      "Foundation School\n",
      "Foundation Special School\n",
      "Free Schools\n",
      "Free Schools - 16-19\n",
      "Free Schools - Alternative Provision\n",
      "Free Schools Special\n",
      "LA Nursery School\n",
      "Pupil Referral Unit\n",
      "Studio Schools\n",
      "University Technical College\n",
      "Voluntary Aided School\n",
      "Voluntary Controlled School\n",
      "\n"
     ]
    }
   ],
   "source": [
    "## All open state-funded schools\n",
    "dat = pd.read_csv('../Edubase_datasets/edubaseallstatefunded20170218.csv', low_memory=False)\n",
    "# dat_links = pd.read_csv('../Edubase_datasets/links_edubaseallstatefunded20170218.csv', low_memory=False)\n",
    "print len(dat)\n",
    "print len(dat_links)\n",
    "print\n",
    "\n",
    "print 'Establishment status catgories:', dat['EstablishmentStatus (name)'].unique()\n",
    "print 'Number schools types:', len(dat['TypeOfEstablishment (name)'].unique())\n",
    "print \n",
    "for school_type in sorted(list(dat['TypeOfEstablishment (name)'].unique())):\n",
    "    print school_type\n",
    "print \n",
    "\n"
   ]
  },
  {
   "cell_type": "markdown",
   "metadata": {},
   "source": [
    "## School types in EduBase\n",
    "\n",
    "**Academies:** Academies are publicly funded independent schools. Academies don’t have to follow the national curriculum and can set their own term times. They still have to follow the same rules on admissions, special educational needs and exclusions as other state schools. Academies get money direct from the government, not the local council. They’re run by an academy trust which employs the staff. Some academies have sponsors such as businesses, universities, other schools, faith groups or voluntary groups. Sponsors are responsible for improving the performance of their schools.\n",
    "<ul>\n",
    "<li>**Academy Converter:** All schools that have chosen through Governing Body Resolution and application to the Secretary of State to become an Academy under the Academies Act 2010.\n",
    "<li>**Academy Special:** Special Schools that have chosen through Governing Body Resolution and application to the Secretary of State to become an Academy under the Academies Act 2010. These will be handled differently to Academy convertors and will follow a different process which is currently being developed.\n",
    "<li>**Academy Sponsor Led:** Academies are all-ability, state-funded schools established and managed by sponsors from a wide range of backgrounds, including high performing schools and colleges, universities, individual philanthropists, businesses, the voluntary sector, and the faith communities.\n",
    "</ul>\n",
    "\n",
    "**Community School:** The Local Authority (LA) employs the school's staff, owns the school's land and buildings and is the admissions authority (it has primary responsibility for deciding the arrangements for admitting pupils).\n",
    "\n",
    "**Community Special School:** A Community special school is the special school equivalent of mainstream Community schools yet are catered wholly or mainly for children with statutory statements of special educational needs.\n",
    "\n",
    "**Foundation School:** In Foundation schools the governing body is the employer and the admissions authority. The school's land and buildings are either owned by the governing body or by a charitable foundation.\n",
    "\n",
    "**Foundation Special School:** A Foundation Special schools is a special school equivalent of the mainstream Foundation school catering wholly or mainly for children with statutory statements of special educational needs.\n",
    "\n",
    "**Free Schools:** Free schools are funded by the government but aren’t run by the local council. They have more control over how they do things. They’re ‘all-ability’ schools, so can’t use academic selection processes like a grammar school. Free schools can, set their own pay and conditions for staff, change the length of school terms and the school day and they don’t have to follow the national curriculum.\n",
    "\n",
    "**Local Authority (LA) Nursery School:** An LA Nursery school is maintained by a local authority and provides education for children who have attained the age of 2 but are under compulsory school age.\n",
    "\n"
   ]
  },
  {
   "cell_type": "markdown",
   "metadata": {},
   "source": [
    "I first read in the edubase csv I downloaded. I then drop all columns except URN and URL, drop observations with empy or invalid urls, and convert the URN column to a number. I then write to csv."
   ]
  },
  {
   "cell_type": "code",
   "execution_count": 60,
   "metadata": {
    "collapsed": false
   },
   "outputs": [
    {
     "name": "stdout",
     "output_type": "stream",
     "text": [
      "11886\n",
      "11884\n",
      "Unique URL: 24516\n",
      "Unique URN: 26641\n",
      "Number obs: 26641\n"
     ]
    }
   ],
   "source": [
    "import pandas as pd\n",
    "# dat = pd.read_csv('../edubasealldata.csv', low_memory=False)\n",
    "dat = dat[['URN', 'SchoolWebsite']]\n",
    "dat = dat[dat.SchoolWebsite.notnull()]\n",
    "\n",
    "# Add 'http:// to start of address where missing (otherwise get error in scraper)\n",
    "print sum(dat['SchoolWebsite'].str[:4]=='http') \n",
    "print sum(dat['SchoolWebsite'].str[:7]=='http://') + sum(dat['SchoolWebsite'].str[:8]=='https://')  # not perfect but close\n",
    "dat['url_start'] = dat['SchoolWebsite'].str[:4]=='http' \n",
    "dat['url_start'].replace(False, 'http://', inplace=True)  #won't work if https\n",
    "dat['url_start'].replace(True, '', inplace=True)\n",
    "dat['URL'] = dat['url_start'] + dat['SchoolWebsite']\n",
    "dat = dat[['URN', 'URL']]\n",
    "\n",
    "# Fix a couple of bugs in the URLS that are breaking the scraper\n",
    "old_url_1 = [x for x in dat.loc[dat['URL'].str[:5]=='http;','URL']][0]    ##must be an easier way to get string!!!\n",
    "old_url_2 = [x for x in dat.loc[dat['URL'].str[:6]=='http:w','URL']][0]\n",
    "dat.loc[dat['URL'].str[:5]=='http;','URL'] = 'http://' + old_url_1[7:]\n",
    "dat.loc[dat['URL'].str[:6]=='http:w','URL'] = 'http://' + old_url_2[5:]\n",
    "\n",
    "# Count unique URNs (should equal numer obs) and URLs (schools could share a URL, so may be less than number obs)\n",
    "print 'Unique URL:', len(dat.URL.value_counts())\n",
    "print 'Unique URN:', len(dat.URN.value_counts())\n",
    "print 'Number obs:', len(dat)\n",
    "\n",
    "dat.to_csv('/Users/sambarrows/Dropbox/School_websites/Scraping/csvurls.csv', index=False, header=False)"
   ]
  }
 ],
 "metadata": {
  "anaconda-cloud": {},
  "kernelspec": {
   "display_name": "Python [conda root]",
   "language": "python",
   "name": "conda-root-py"
  },
  "language_info": {
   "codemirror_mode": {
    "name": "ipython",
    "version": 2
   },
   "file_extension": ".py",
   "mimetype": "text/x-python",
   "name": "python",
   "nbconvert_exporter": "python",
   "pygments_lexer": "ipython2",
   "version": "2.7.12"
  }
 },
 "nbformat": 4,
 "nbformat_minor": 1
}
